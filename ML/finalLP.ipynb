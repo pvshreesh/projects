{
 "cells": [
  {
   "cell_type": "code",
   "execution_count": 2,
   "metadata": {},
   "outputs": [
    {
     "name": "stdout",
     "output_type": "stream",
     "text": [
      "[[  1.        3.6216    8.6661   -2.8073   -0.44699   0.     ]\n",
      " [  1.        4.5459    8.1674   -2.4586   -1.4621    0.     ]\n",
      " [  1.        3.866    -2.6383    1.9242    0.10645   0.     ]\n",
      " ...\n",
      " [  1.       -3.7503  -13.4586   17.5932   -2.7771    1.     ]\n",
      " [  1.       -3.5637   -8.3827   12.393    -1.2823    1.     ]\n",
      " [  1.       -2.5419   -0.65804   2.6842    1.1952    1.     ]]\n"
     ]
    }
   ],
   "source": [
    "import numpy as np\n",
    "import pandas as pd\n",
    "import matplotlib.pyplot as plt\n",
    "from mpl_toolkits import mplot3d\n",
    "#data=pd.read_csv(\"C:\\\\Users\\\\pvshr\\\\Downloads\\\\dataset_LP_2.csv\",header=None)\n",
    "data=pd.read_csv(\"C:\\\\Users\\\\pvshr\\\\Downloads\\\\dataset_LP_1.txt\",header=None)\n",
    "\n",
    "data.insert(0,0,[1 for i in range(len(data))],True)\n",
    "data=data.to_numpy()\n"
   ]
  },
  {
   "cell_type": "code",
   "execution_count": 45,
   "metadata": {},
   "outputs": [],
   "source": [
    "#+/- points\n",
    "for i in range(len(data)):\n",
    "    if data[i][-1]==0:\n",
    "        data[i][-1]=-1\n"
   ]
  },
  {
   "cell_type": "code",
   "execution_count": 46,
   "metadata": {},
   "outputs": [],
   "source": [
    "#7-3 spilt\n",
    "\n",
    "import random\n",
    "#random.shuffle(data)\n",
    "sp=int(0.7*len(data))\n",
    "data_train=data[:sp]\n",
    "data_test=data[sp:]\n"
   ]
  },
  {
   "cell_type": "code",
   "execution_count": 47,
   "metadata": {},
   "outputs": [
    {
     "name": "stdout",
     "output_type": "stream",
     "text": [
      "9999\n"
     ]
    }
   ],
   "source": [
    "#training part\n",
    "\n",
    "import random\n",
    "w=0\n",
    "n=0.01\n",
    "col=len(data[0][:])-1\n",
    "doit=0\n",
    "k=0\n",
    "\n",
    "for p in range(10000):\n",
    "    x=data_train[k][:-1]\n",
    "    t=data_train[k][-1]\n",
    "    w=w+ n*t*x                                #updating weight function\n",
    "    \n",
    "    if doit==1:\n",
    "        cnt=0\n",
    "        for j in range(len(data_train)):       #is it seperable\n",
    "            x1=data_train[j][:-1]\n",
    "            t1=data_train[j][-1]\n",
    "            \n",
    "            \n",
    "            w1=w.reshape(col,1)\n",
    "            x2=x1.reshape(col,1)\n",
    "            \n",
    "            er=t1*np.dot(w1.T,x2)\n",
    "            \n",
    "            if er<0:                           #is it missclassified\n",
    "                cnt=cnt+1\n",
    "        if cnt==0:\n",
    "            print('seperable in training data')\n",
    "            break\n",
    "            \n",
    "    k=k+1\n",
    "    if k==len(data_train):                       #shuffle\n",
    "        k=0\n",
    "        doit=1\n",
    "        random.shuffle(data_train)\n",
    "print(p)"
   ]
  },
  {
   "cell_type": "code",
   "execution_count": 48,
   "metadata": {},
   "outputs": [
    {
     "name": "stdout",
     "output_type": "stream",
     "text": [
      "accuracy\n",
      "50.970873786407765\n"
     ]
    }
   ],
   "source": [
    "#testing part\n",
    "\n",
    "cnt=0\n",
    "for j in range(len(data_test)):\n",
    "    x1=data_test[j][:-1]\n",
    "    t1=data_test[j][-1]\n",
    "    \n",
    "    w1=w.reshape(col,1)\n",
    "    x2=x1.reshape(col,1)\n",
    "    er=t1*np.dot(w1.T,x2)\n",
    "    if er<0:\n",
    "        cnt=cnt+1\n",
    "            \n",
    "err=1-(cnt/len(data_test))\n",
    "#print(err)\n",
    "print('accuracy')\n",
    "print(err*100)"
   ]
  },
  {
   "cell_type": "code",
   "execution_count": null,
   "metadata": {},
   "outputs": [],
   "source": []
  }
 ],
 "metadata": {
  "kernelspec": {
   "display_name": "Python 3",
   "language": "python",
   "name": "python3"
  },
  "language_info": {
   "codemirror_mode": {
    "name": "ipython",
    "version": 3
   },
   "file_extension": ".py",
   "mimetype": "text/x-python",
   "name": "python",
   "nbconvert_exporter": "python",
   "pygments_lexer": "ipython3",
   "version": "3.8.3"
  }
 },
 "nbformat": 4,
 "nbformat_minor": 4
}
